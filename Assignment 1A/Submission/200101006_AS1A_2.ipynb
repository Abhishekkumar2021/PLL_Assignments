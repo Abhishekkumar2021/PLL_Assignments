{
  "cells": [
    {
      "cell_type": "markdown",
      "metadata": {
        "id": "e1DTpzGVElcF"
      },
      "source": [
        "# **Programming Lab Assignment - 1A**"
      ]
    },
    {
      "cell_type": "markdown",
      "metadata": {
        "id": "7D_Ek8afE0R8"
      },
      "source": [
        "### **Complete the Bubble Sort Program**"
      ]
    },
    {
      "attachments": {},
      "cell_type": "markdown",
      "metadata": {
        "id": "iQ0X9FMrQmME"
      },
      "source": [
        "- Name - Abhishek Kumar \n",
        "- Roll_No - 200101006"
      ]
    },
    {
      "cell_type": "code",
      "execution_count": 2,
      "metadata": {
        "id": "eFC2M2TrIwQN"
      },
      "outputs": [],
      "source": [
        "# Write the path of file uploaded in your drive. \n",
        "with open('data_file.txt', 'r') as f:\n",
        "    data = f.read()\n",
        "# Conversion of string list data to integer list.\n",
        "raw = [int(i) for i in data.split()]"
      ]
    },
    {
      "cell_type": "code",
      "execution_count": 5,
      "metadata": {
        "colab": {
          "base_uri": "https://localhost:8080/"
        },
        "id": "xlZev6DVGpVG",
        "outputId": "ebb20b16-82a2-49d6-9b1b-14ae325ff6e8"
      },
      "outputs": [
        {
          "name": "stdout",
          "output_type": "stream",
          "text": [
            "[2334, 2302, 2260, 2257, 2251, 2248, 2244, 2241, 2234, 2234, 2230, 2229, 2224, 2223, 2214, 2209, 2207, 2206, 2204, 2198]\n"
          ]
        }
      ],
      "source": [
        "# Code to find the maximum 20 values from the file.\n",
        "max_20=[]\n",
        "for i in range(0, 20):\n",
        "    max1 = 0\n",
        "    for j in range(len(raw)):    \n",
        "        if raw[j] > max1:\n",
        "            max1 = raw[j];\n",
        "            \n",
        "    raw.remove(max1);\n",
        "    max_20.append(max1)\n",
        "         \n",
        "print(max_20)"
      ]
    },
    {
      "cell_type": "code",
      "execution_count": 6,
      "metadata": {
        "id": "Cf6oxmnMGACU"
      },
      "outputs": [],
      "source": [
        "# ........................................................................\n",
        "# ........................................................................\n",
        "# .................Write your BUBBLE SORT CODE here.......................\n",
        "# ........................................................................\n",
        "# ........................................................................\n",
        "\n",
        "# Code to sort the max_20 data in ascending order.\n",
        "\n",
        "for i in range(len(max_20)):\n",
        "    for j in range(0, len(max_20)-i-1):\n",
        "        if max_20[j] > max_20[j+1] :\n",
        "            max_20[j], max_20[j+1] = max_20[j+1], max_20[j] # Swapping of elements.\n",
        "            \n",
        "    "
      ]
    },
    {
      "cell_type": "code",
      "execution_count": 8,
      "metadata": {
        "id": "a0VmgfMGKbxN"
      },
      "outputs": [],
      "source": [
        "# ........................................................................\n",
        "# ........................................................................\n",
        "# ........Write the sorted array into a file named \"B_SORT.txt\"...........\n",
        "# ........................................................................\n",
        "# ........................................................................\n",
        "\n",
        "with open('B_SORT.txt', 'w') as f:\n",
        "    for item in max_20:\n",
        "        f.write(\"%s \" % item)\n",
        "    f.close()\n",
        "        "
      ]
    }
  ],
  "metadata": {
    "colab": {
      "provenance": []
    },
    "kernelspec": {
      "display_name": "Python 3",
      "language": "python",
      "name": "python3"
    },
    "language_info": {
      "codemirror_mode": {
        "name": "ipython",
        "version": 3
      },
      "file_extension": ".py",
      "mimetype": "text/x-python",
      "name": "python",
      "nbconvert_exporter": "python",
      "pygments_lexer": "ipython3",
      "version": "3.10.6"
    },
    "vscode": {
      "interpreter": {
        "hash": "916dbcbb3f70747c44a77c7bcd40155683ae19c65e1c03b4aa3499c5328201f1"
      }
    }
  },
  "nbformat": 4,
  "nbformat_minor": 0
}
